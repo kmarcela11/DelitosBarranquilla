{
 "cells": [
  {
   "cell_type": "markdown",
   "metadata": {},
   "source": [
    "# **EDA y ETL: Conjunto de datos 1**"
   ]
  },
  {
   "cell_type": "markdown",
   "metadata": {},
   "source": [
    "Es importante destacar que, para una persona no experta en datos interesada en conocer la situación de los delitos en su ciudad, la comprensión de este conjunto de datos puede resultar complicada, ya que se presenta como una comparación entre periodos de tiempo. Dado que nuestro objetivo es aprovechar los datos abiertos de la manera más efectiva, llevaremos a cabo una reestructuración de este conjunto de datos. Esta transformación buscará simplificar su interpretación y hacerlo más accesible, asegurando que cualquier persona pueda entender fácilmente la información presentada."
   ]
  },
  {
   "cell_type": "markdown",
   "metadata": {},
   "source": [
    "## **Librerías y modulos necesarios**"
   ]
  },
  {
   "cell_type": "markdown",
   "metadata": {},
   "source": [
    "Las librerías necesarias para el desarrollo del análisis exploratorio y transformación de datos son las siguientes:"
   ]
  },
  {
   "cell_type": "code",
   "execution_count": null,
   "metadata": {},
   "outputs": [],
   "source": [
    "import pandas as pd\n",
    "import warnings\n",
    "warnings.filterwarnings(\"ignore\")"
   ]
  },
  {
   "cell_type": "markdown",
   "metadata": {},
   "source": [
    "# **Conjunto de datos 1**"
   ]
  },
  {
   "cell_type": "markdown",
   "metadata": {},
   "source": [
    "Inicialmente hacemos cargue del conjunto de datos a usar. "
   ]
  },
  {
   "cell_type": "code",
   "execution_count": 2,
   "metadata": {},
   "outputs": [],
   "source": [
    "df = pd.read_csv(r\"C:\\Users\\kamac\\OneDrive\\Desktop\\DelitosBarranquilla\\comparativo_de_delitos.csv\")"
   ]
  },
  {
   "cell_type": "markdown",
   "metadata": {},
   "source": [
    "## **Contextualización de los datos**"
   ]
  },
  {
   "cell_type": "markdown",
   "metadata": {},
   "source": [
    "Este conjunto de datos presenta un consolidado de delitos de alto impacto ocurridos en la ciudad de Barranquilla. Incluye cifras preliminares de homicidios, denuncias por extorsión, lesiones personales, delitos sexuales, violencia intrafamiliar y diversos tipos de hurto, como hurto a personas, comercios, residencias, entidades financieras, automotores y motocicletas. Además, proporciona una comparación entre el mismo periodo de diferentes años, destacando las variaciones porcentuales (%) y absolutas (#), lo que permite un análisis detallado de las tendencias y cambios en la incidencia de estos delitos a lo largo del tiempo. Este conjunto de datos constituye una herramienta valiosa para comprender la dinámica delictiva en Barranquilla y diseñar estrategias de prevención basadas en evidencia."
   ]
  },
  {
   "cell_type": "markdown",
   "metadata": {},
   "source": [
    "El conjunto de datos se encuentra en el siguiente enlace: [Comparativo de delitos de alto impacto en la ciudad de Barranquilla](https://www.datos.gov.co/Seguridad-y-Defensa/Comparativo-de-delitos-de-alto-impacto-en-la-ciuda/4p95-h82w/about_data)\n"
   ]
  },
  {
   "cell_type": "markdown",
   "metadata": {},
   "source": [
    "### **Características de los datos**"
   ]
  },
  {
   "cell_type": "markdown",
   "metadata": {},
   "source": [
    "Ahora se visualizan las primeras cinco observaciones del conjunto de datos."
   ]
  },
  {
   "cell_type": "code",
   "execution_count": 3,
   "metadata": {},
   "outputs": [
    {
     "data": {
      "text/html": [
       "<div>\n",
       "<style scoped>\n",
       "    .dataframe tbody tr th:only-of-type {\n",
       "        vertical-align: middle;\n",
       "    }\n",
       "\n",
       "    .dataframe tbody tr th {\n",
       "        vertical-align: top;\n",
       "    }\n",
       "\n",
       "    .dataframe thead th {\n",
       "        text-align: right;\n",
       "    }\n",
       "</style>\n",
       "<table border=\"1\" class=\"dataframe\">\n",
       "  <thead>\n",
       "    <tr style=\"text-align: right;\">\n",
       "      <th></th>\n",
       "      <th>Periodo meses comparado</th>\n",
       "      <th>Años comparados</th>\n",
       "      <th>Delito</th>\n",
       "      <th>Casos/denuncias  anterior periodo</th>\n",
       "      <th>Casos/denuncias último periodo</th>\n",
       "      <th>Variación %</th>\n",
       "      <th>Variación absoluta</th>\n",
       "      <th>Fuente</th>\n",
       "    </tr>\n",
       "  </thead>\n",
       "  <tbody>\n",
       "    <tr>\n",
       "      <th>0</th>\n",
       "      <td>01 al 31 de enero</td>\n",
       "      <td>2019-2020</td>\n",
       "      <td>Homicidios</td>\n",
       "      <td>25</td>\n",
       "      <td>23</td>\n",
       "      <td>-8%</td>\n",
       "      <td>-2</td>\n",
       "      <td>POLICIA MEBAR-GRICRI,datos extraidos del balan...</td>\n",
       "    </tr>\n",
       "    <tr>\n",
       "      <th>1</th>\n",
       "      <td>01 al 31 de enero</td>\n",
       "      <td>2019-2020</td>\n",
       "      <td>Lesiones personales o comunes</td>\n",
       "      <td>279</td>\n",
       "      <td>186</td>\n",
       "      <td>-33%</td>\n",
       "      <td>-93</td>\n",
       "      <td>POLICIA MEBAR-GRICRI,datos extraidos del balan...</td>\n",
       "    </tr>\n",
       "    <tr>\n",
       "      <th>2</th>\n",
       "      <td>01 al 31 de enero</td>\n",
       "      <td>2019-2020</td>\n",
       "      <td>Hurtos a personas</td>\n",
       "      <td>892</td>\n",
       "      <td>944</td>\n",
       "      <td>6%</td>\n",
       "      <td>52</td>\n",
       "      <td>POLICIA MEBAR-GRICRI,datos extraidos del balan...</td>\n",
       "    </tr>\n",
       "    <tr>\n",
       "      <th>3</th>\n",
       "      <td>01 al 31 de enero</td>\n",
       "      <td>2019-2020</td>\n",
       "      <td>Hurtos a comercios</td>\n",
       "      <td>171</td>\n",
       "      <td>59</td>\n",
       "      <td>-65%</td>\n",
       "      <td>-112</td>\n",
       "      <td>POLICIA MEBAR-GRICRI,datos extraidos del balan...</td>\n",
       "    </tr>\n",
       "    <tr>\n",
       "      <th>4</th>\n",
       "      <td>01 al 31 de enero</td>\n",
       "      <td>2019-2020</td>\n",
       "      <td>Hurtos a residencias</td>\n",
       "      <td>85</td>\n",
       "      <td>50</td>\n",
       "      <td>-41%</td>\n",
       "      <td>-35</td>\n",
       "      <td>POLICIA MEBAR-GRICRI,datos extraidos del balan...</td>\n",
       "    </tr>\n",
       "  </tbody>\n",
       "</table>\n",
       "</div>"
      ],
      "text/plain": [
       "  Periodo meses comparado Años comparados                         Delito  \\\n",
       "0       01 al 31 de enero       2019-2020                     Homicidios   \n",
       "1       01 al 31 de enero       2019-2020  Lesiones personales o comunes   \n",
       "2       01 al 31 de enero       2019-2020              Hurtos a personas   \n",
       "3       01 al 31 de enero       2019-2020             Hurtos a comercios   \n",
       "4       01 al 31 de enero       2019-2020           Hurtos a residencias   \n",
       "\n",
       "  Casos/denuncias  anterior periodo Casos/denuncias último periodo  \\\n",
       "0                                25                             23   \n",
       "1                               279                            186   \n",
       "2                               892                            944   \n",
       "3                               171                             59   \n",
       "4                                85                             50   \n",
       "\n",
       "  Variación % Variación absoluta  \\\n",
       "0         -8%                 -2   \n",
       "1        -33%                -93   \n",
       "2          6%                 52   \n",
       "3        -65%               -112   \n",
       "4        -41%                -35   \n",
       "\n",
       "                                              Fuente  \n",
       "0  POLICIA MEBAR-GRICRI,datos extraidos del balan...  \n",
       "1  POLICIA MEBAR-GRICRI,datos extraidos del balan...  \n",
       "2  POLICIA MEBAR-GRICRI,datos extraidos del balan...  \n",
       "3  POLICIA MEBAR-GRICRI,datos extraidos del balan...  \n",
       "4  POLICIA MEBAR-GRICRI,datos extraidos del balan...  "
      ]
     },
     "execution_count": 3,
     "metadata": {},
     "output_type": "execute_result"
    }
   ],
   "source": [
    "df.head()"
   ]
  },
  {
   "cell_type": "code",
   "execution_count": 4,
   "metadata": {},
   "outputs": [
    {
     "data": {
      "text/plain": [
       "(427, 8)"
      ]
     },
     "execution_count": 4,
     "metadata": {},
     "output_type": "execute_result"
    }
   ],
   "source": [
    "df.shape"
   ]
  },
  {
   "cell_type": "markdown",
   "metadata": {},
   "source": [
    "El conjunto de datos inicial cuenta con **427** observaciones y **8** variables."
   ]
  },
  {
   "cell_type": "markdown",
   "metadata": {},
   "source": [
    "## **Transformación, limpieza y reorganización del conjunto de datos**"
   ]
  },
  {
   "cell_type": "markdown",
   "metadata": {},
   "source": [
    "Inicialmente, se eliminó la columna correspondiente a **\"Fuente\"**, ya que no será relevante para el desarrollo del tablero de visualización. No obstante, es importante mencionar que la fuente de los datos es **\"POLICÍA MEBAR-GRICRI\"**, y los mismos fueron extraídos del balance criminológico, garantizando la veracidad y confiabilidad de la información utilizada."
   ]
  },
  {
   "cell_type": "code",
   "execution_count": 5,
   "metadata": {},
   "outputs": [],
   "source": [
    "df.drop('Fuente', axis = 1, inplace = True)"
   ]
  },
  {
   "cell_type": "markdown",
   "metadata": {},
   "source": [
    "En este proceso, se reorganizan y preparan los datos para facilitar su análisis. Primero, la columna **\"Años comparados\"** se divide en dos nuevas columnas, **\"Año anterior\"** y **\"Último año\"**, separando la información de los años comparados. Luego, se elimina la columna original **\"Años comparados\"** al no ser necesaria tras la división. Finalmente, las columnas del DataFrame se reorganizan para mejorar su legibilidad, destacando información clave como el periodo comparado, los tipos de delitos, el número de casos en cada año y las variaciones porcentuales y absolutas. Este proceso da como resultado una estructura más clara y lógica que facilita la interpretación de los datos y el análisis de tendencias delictivas."
   ]
  },
  {
   "cell_type": "code",
   "execution_count": 6,
   "metadata": {},
   "outputs": [],
   "source": [
    "# Dividir la columna 'Años comparados' en 'Año anterior' y 'Último año'\n",
    "df[['Año anterior', 'Último año']] = df['Años comparados'].str.split('-', expand = True)\n",
    "\n",
    "# Eliminar la columna 'Años comparados' original\n",
    "df.drop('Años comparados', axis = 1, inplace = True)\n",
    "\n",
    "# Reorganizar las columnas para que las nuevas columnas estén en el lugar adecuado\n",
    "df = df[['Periodo meses comparado', 'Año anterior', 'Último año', 'Delito', \n",
    "         'Casos/denuncias  anterior periodo', 'Casos/denuncias último periodo', \n",
    "         'Variación %', 'Variación absoluta']]"
   ]
  },
  {
   "cell_type": "code",
   "execution_count": 7,
   "metadata": {},
   "outputs": [],
   "source": [
    "df.rename(columns = {\n",
    "    'Periodo meses comparado': 'Meses comparados',\n",
    "    'Casos/denuncias  anterior periodo': 'Casos anterior año',\n",
    "    'Casos/denuncias último periodo': 'Casos último año',\n",
    "    'Variación %': 'Variacion porcentual',\n",
    "    'Variación absoluta': 'Variacion absoluta'\n",
    "}, inplace = True)\n"
   ]
  },
  {
   "cell_type": "markdown",
   "metadata": {},
   "source": [
    "Para manejar la duplicidad de categorías debido a diferencias en mayúsculas y minúsculas, se aplica una transformación a la columna **\"Delito\"** utilizando una función lambda. Esta transformación estandariza los nombres de las categorías, agrupando aquellas que tienen el mismo significado pero están escritas de forma diferente (por ejemplo, en mayúsculas o con variaciones en su redacción). La función busca palabras clave en cada valor de la columna, las convierte a minúsculas con `.lower()` y asigna un nombre unificado a las categorías. Esto garantiza consistencia en los datos y facilita el análisis posterior al eliminar redundancias y garantizar que cada categoría represente un único tipo de delito."
   ]
  },
  {
   "cell_type": "code",
   "execution_count": 8,
   "metadata": {},
   "outputs": [],
   "source": [
    "# Aplicar la transformación usando lambda para agrupar las categorías repetidas\n",
    "df['Delito'] = df['Delito'].apply(lambda x: 'Delitos sexuales' if 'delito' in str(x).lower() or 'sexuales' in str(x).lower() else (\n",
    "    'Hurtos a comercios' if 'hurto a comer' in str(x).lower() else (\n",
    "    'Hurtos a personas' if 'hurto a persona' in str(x).lower() or 'hurto a personas' in str(x).lower() else (\n",
    "    'Hurtos de motocicletas' if 'hurto motocicletas' in str(x).lower() or 'hurto a motocicletas' in str(x).lower() or 'hurtos motocicletas' in str(x).lower() else (\n",
    "    'Hurtos a residencias' if 'hurto a residencias' in str(x).lower() else (\n",
    "    'Hurtos automotores' if 'hurto automotores' in str(x).lower() or 'hurto a automotores' in str(x).lower() else (\n",
    "    'Lesiones personales o comunes' if 'lesiones personales' in str(x).lower() else (\n",
    "    'Extorsión' if 'extorsión' in str(x).lower() else (\n",
    "    'Violencia intrafamiliar' if 'violencia intrafamiliar' in str(x).lower() else (\n",
    "    'Hurtos a entidades financieras' if 'hurto a entidades financieras' in str(x).lower() or 'hurto a entidad financiera' in str(x).lower() else (\n",
    "    'Hurtos a residencias' if 'hurto a residencia' in str(x).lower() else (\n",
    "    'Hurtos de bicicletas' if 'hurto a bicicletas' in str(x).lower() else (\n",
    "    'Hurtos de celulares' if 'hurto a celulares' in str(x).lower() else x)))))))))))))"
   ]
  },
  {
   "cell_type": "markdown",
   "metadata": {},
   "source": [
    "Entonces, los delitos que encontramos en la base de datos son los siguentes: "
   ]
  },
  {
   "cell_type": "code",
   "execution_count": 9,
   "metadata": {},
   "outputs": [
    {
     "data": {
      "text/plain": [
       "Delito\n",
       "Homicidios                        47\n",
       "Hurtos a comercios                47\n",
       "Hurtos a personas                 47\n",
       "Hurtos a residencias              47\n",
       "Hurtos automotores                47\n",
       "Hurtos de motocicletas            47\n",
       "Lesiones personales o comunes     47\n",
       "Hurtos a entidades financieras    32\n",
       "Extorsión                         26\n",
       "Delitos sexuales                  15\n",
       "Violencia intrafamiliar           15\n",
       "Hurtos de bicicletas               5\n",
       "Hurtos de celulares                5\n",
       "Name: count, dtype: int64"
      ]
     },
     "execution_count": 9,
     "metadata": {},
     "output_type": "execute_result"
    }
   ],
   "source": [
    "df.value_counts('Delito')"
   ]
  },
  {
   "cell_type": "markdown",
   "metadata": {},
   "source": [
    "Ahora, haremos una transformación por cada delito."
   ]
  },
  {
   "cell_type": "markdown",
   "metadata": {},
   "source": [
    "En este bloque de código se realiza una transformación específica para el delito de **homicidios**, pero este proceso es aplicable a todos los delitos mencionados previamente (delitos sexuales, extorsión, violencia intrafamiliar, hurtos a personas, comercios, residencias, entidades financieras, automotores, motocicletas, bicicletas y celulares). A continuación, se describe lo que se realiza:\n",
    "\n",
    "1. **Filtrado por delito específico**:\n",
    "   - Se seleccionan únicamente las filas correspondientes al delito de interés, en este caso, **homicidios**.\n",
    "\n",
    "2. **Extracción y limpieza de datos**:\n",
    "   - Se extrae el nombre del mes desde la columna **\"Meses comparados\"** para obtener una columna separada con el nombre del mes.\n",
    "   - La primera letra de cada mes se convierte en mayúscula para estandarizar el formato.\n",
    "\n",
    "3. **Conversión de columnas numéricas**:\n",
    "   - Se convierten las columnas **\"Casos anterior año\"** y **\"Casos último año\"** a valores numéricos para permitir cálculos matemáticos posteriores.\n",
    "\n",
    "4. **Cálculo de casos mensuales**:\n",
    "   - Se crean nuevas columnas que calculan la diferencia de los casos de cada mes dentro de los años respectivos, asegurando que se puedan comparar de manera precisa.\n",
    "\n",
    "5. **Cálculo de variaciones**:\n",
    "   - Se calcula la variación absoluta entre los casos del año anterior y los del último año.\n",
    "   - Se calcula la variación porcentual, mostrando cómo ha cambiado el número de casos entre ambos años.\n",
    "\n",
    "6. **Renombrado y reorganización de columnas**:\n",
    "   - Las columnas se renombran para que sean más descriptivas.\n",
    "   - Se reorganizan para mejorar la legibilidad y facilitar la exportación.\n",
    "\n",
    "7. **Conversión a enteros y exportación**:\n",
    "   - Las columnas numéricas se convierten a enteros eliminando los decimales, y los resultados se exportan a un archivo CSV con los datos ya ordenados y procesados.\n",
    "\n",
    "Este proceso permite organizar y analizar los datos de manera detallada para cada delito, estandarizando los cálculos y dejando los datos listos para su interpretación y visualización en herramientas como Power BI."
   ]
  },
  {
   "cell_type": "code",
   "execution_count": 10,
   "metadata": {},
   "outputs": [],
   "source": [
    "df_homicidios = df[df['Delito'] == 'Homicidios']\n",
    "# Extraer solo el mes de \"Meses comparados\" tomando la última palabra\n",
    "df_homicidios['Mes'] = df_homicidios['Meses comparados'].str.split().str[-1]\n",
    "\n",
    "# Convertir la primera letra de cada mes a mayúscula\n",
    "df_homicidios['Mes'] = df_homicidios['Mes'].str.capitalize()\n",
    "\n",
    "# Convertir las columnas de \"Casos\" a valores numéricos\n",
    "df_homicidios['Casos anterior año'] = pd.to_numeric(df_homicidios['Casos anterior año'], errors='coerce')\n",
    "df_homicidios['Casos último año'] = pd.to_numeric(df_homicidios['Casos último año'], errors='coerce')\n",
    "\n",
    "# Crear una nueva columna con la diferencia de los casos mensuales para el año anterior\n",
    "df_homicidios['Casos mensuales anterior año'] = df_homicidios['Casos anterior año'].diff().fillna(df_homicidios['Casos anterior año'])\n",
    "\n",
    "# Crear una nueva columna con la diferencia de los casos mensuales para el último año\n",
    "df_homicidios['Casos mensuales último año'] = df_homicidios['Casos último año'].diff().fillna(df_homicidios['Casos último año'])\n",
    "\n",
    "# Agrupar por \"Año anterior\" para asegurar que la diferencia se calcule correctamente dentro de cada año\n",
    "df_homicidios['Casos mensuales anterior año'] = df_homicidios.groupby('Año anterior')['Casos anterior año'].diff().fillna(df_homicidios['Casos anterior año'])\n",
    "df_homicidios['Casos mensuales último año'] = df_homicidios.groupby('Año anterior')['Casos último año'].diff().fillna(df_homicidios['Casos último año'])\n",
    "\n",
    "# Eliminar las columnas que no son necesarias para el análisis\n",
    "df_homicidios.drop(columns=['Meses comparados', 'Casos anterior año', 'Casos último año'], inplace = True)\n",
    "\n",
    "# Renombrar las columnas para que sean más descriptivas\n",
    "df_homicidios.rename(columns={\n",
    "    'Casos mensuales anterior año': 'Casos Mensuales Año Anterior',\n",
    "    'Casos mensuales último año': 'Casos Mensuales Último Año'\n",
    "}, inplace=True)\n",
    "# Calcular la variación absoluta\n",
    "df_homicidios['Variacion absoluta'] = df_homicidios['Casos Mensuales Último Año'] - df_homicidios['Casos Mensuales Año Anterior']\n",
    "\n",
    "# Calcular la variación porcentual\n",
    "df_homicidios['Variacion porcentual'] = ((df_homicidios['Casos Mensuales Último Año'] - df_homicidios['Casos Mensuales Año Anterior']) / df_homicidios['Casos Mensuales Año Anterior']) * 100\n",
    "df_homicidios['Variacion porcentual'] = df_homicidios['Variacion porcentual'].round(1)\n",
    "\n",
    "# Reubicar las columnas en el orden que prefieras\n",
    "df_homicidios = df_homicidios[['Mes', 'Año anterior', 'Último año', 'Delito', 'Casos Mensuales Año Anterior', 'Casos Mensuales Último Año', 'Variacion porcentual', 'Variacion absoluta']]\n",
    "\n",
    "# Seleccionamos las columnas numéricas (excepto las categóricas y las de los años)\n",
    "numerical_columns = df_homicidios.select_dtypes(include=['float64']).columns\n",
    "\n",
    "# Convertimos esas columnas a enteros (eliminando los decimales)\n",
    "df_homicidios[numerical_columns] = df_homicidios[numerical_columns].astype(int)\n",
    "\n",
    "df_homicidios.to_csv(r'C:\\Users\\kamac\\OneDrive\\Desktop\\DelitosBarranquilla\\homicidios_ordenados.csv', index=False)"
   ]
  },
  {
   "cell_type": "markdown",
   "metadata": {},
   "source": [
    "Cabe destacar que, en este caso, el proceso se muestra únicamente para la categoría de **homicidios** con el objetivo de mejorar la claridad y visibilidad del informe. No obstante, este mismo procedimiento fue aplicado de manera consistente a cada uno de los tipos de delitos mencionados anteriormente, garantizando un análisis detallado y uniforme para todas las categorías incluidas en el conjunto de datos."
   ]
  },
  {
   "cell_type": "markdown",
   "metadata": {},
   "source": [
    "Ahora, importamos cada base de datos generada por la transformación. "
   ]
  },
  {
   "cell_type": "code",
   "execution_count": 11,
   "metadata": {},
   "outputs": [],
   "source": [
    "df_homicidios = pd.read_csv(\"C:\\\\Users\\\\kamac\\\\OneDrive\\\\Desktop\\\\DelitosBarranquilla\\\\homicidios_ordenados.csv\")\n",
    "df_hurtos_comercios = pd.read_csv(\"C:\\\\Users\\\\kamac\\\\OneDrive\\\\Desktop\\\\DelitosBarranquilla\\\\hurtos_comercios_ordenados.csv\")\n",
    "df_hurtos_personas = pd.read_csv(\"C:\\\\Users\\\\kamac\\\\OneDrive\\\\Desktop\\\\DelitosBarranquilla\\\\hurtos_personas_ordenados.csv\")\n",
    "df_hurtos_residencias = pd.read_csv(\"C:\\\\Users\\\\kamac\\\\OneDrive\\\\Desktop\\\\DelitosBarranquilla\\\\hurtos_residencias_ordenados.csv\")\n",
    "df_hurtos_automotores = pd.read_csv(\"C:\\\\Users\\\\kamac\\\\OneDrive\\\\Desktop\\\\DelitosBarranquilla\\\\hurtos_automotores_ordenados.csv\")\n",
    "df_hurtos_motocicletas = pd.read_csv(\"C:\\\\Users\\\\kamac\\\\OneDrive\\\\Desktop\\\\DelitosBarranquilla\\\\hurtos_motocicletas_ordenados.csv\")\n",
    "df_lesiones_personales = pd.read_csv(\"C:\\\\Users\\\\kamac\\\\OneDrive\\\\Desktop\\\\DelitosBarranquilla\\\\lesiones_personales_ordenados.csv\")\n",
    "df_extorsion = pd.read_csv(\"C:\\\\Users\\\\kamac\\\\OneDrive\\\\Desktop\\\\DelitosBarranquilla\\\\extorsion_ordenados.csv\")\n",
    "df_delitos_sexuales = pd.read_csv(\"C:\\\\Users\\\\kamac\\\\OneDrive\\\\Desktop\\\\DelitosBarranquilla\\\\delitos_sexuales_ordenados.csv\")\n",
    "df_violencia_intrafamiliar  = pd.read_csv(\"C:\\\\Users\\\\kamac\\\\OneDrive\\\\Desktop\\\\DelitosBarranquilla\\\\violencia_intrafamiliar_ordenados.csv\")\n",
    "df_hurtos_bicicletas = pd.read_csv(\"C:\\\\Users\\\\kamac\\\\OneDrive\\\\Desktop\\\\DelitosBarranquilla\\\\hurtos_bicicletas_ordenados.csv\")\n",
    "df_hurtos_celulares = pd.read_csv(\"C:\\\\Users\\\\kamac\\\\OneDrive\\\\Desktop\\\\DelitosBarranquilla\\\\hurtos_celulares_ordenados.csv\")"
   ]
  },
  {
   "cell_type": "markdown",
   "metadata": {},
   "source": [
    "Se unen cada base de datos de tipo de delitos en una sola llamada `df_total`"
   ]
  },
  {
   "cell_type": "code",
   "execution_count": 12,
   "metadata": {},
   "outputs": [],
   "source": [
    "# Concatenar todos los DataFrames en uno solo\n",
    "df_total = pd.concat([\n",
    "    df_homicidios,\n",
    "    df_hurtos_comercios,\n",
    "    df_hurtos_personas,\n",
    "    df_hurtos_residencias,\n",
    "    df_hurtos_automotores,\n",
    "    df_hurtos_motocicletas,\n",
    "    df_lesiones_personales,\n",
    "    df_extorsion,\n",
    "    df_delitos_sexuales,\n",
    "    df_violencia_intrafamiliar,\n",
    "    df_hurtos_bicicletas,\n",
    "    df_hurtos_celulares\n",
    "], ignore_index=True)"
   ]
  },
  {
   "cell_type": "markdown",
   "metadata": {},
   "source": [
    "En este bloque de código se limpia y ajusta el conjunto de datos consolidado. Primero, se eliminan todas las filas que contienen valores faltantes (*NaN*) utilizando `dropna()`, asegurando que los datos estén completos. Luego, se identifican las columnas numéricas de tipo `float64` con `select_dtypes` y se convierten a enteros (`int`) para eliminar los decimales, lo cual es útil en análisis donde no se necesitan valores fraccionarios, como el conteo de casos. Finalmente, con `df_total.shape`, se verifica que el DataFrame resultante contiene **330 filas** y **8 columnas**, indicando que los datos están limpios y listos para su análisis."
   ]
  },
  {
   "cell_type": "code",
   "execution_count": 13,
   "metadata": {},
   "outputs": [],
   "source": [
    "# Eliminar filas con valores NaN\n",
    "df_total = df_total.dropna()\n",
    "\n",
    "# Seleccionar las columnas numéricas\n",
    "numerical_columns = df_total.select_dtypes(include=['float64']).columns\n",
    "\n",
    "# Convertir las columnas numéricas a enteros, eliminando los decimales\n",
    "df_total[numerical_columns] = df_total[numerical_columns].astype(int)"
   ]
  },
  {
   "cell_type": "code",
   "execution_count": 14,
   "metadata": {},
   "outputs": [
    {
     "data": {
      "text/plain": [
       "(330, 8)"
      ]
     },
     "execution_count": 14,
     "metadata": {},
     "output_type": "execute_result"
    }
   ],
   "source": [
    "df_total.shape"
   ]
  },
  {
   "cell_type": "markdown",
   "metadata": {},
   "source": [
    "Dado que, según la estructura de los datos, los casos del año **2023** se encuentran en la columna **\"Último año\"**, mientras que los casos de años anteriores están en la columna **\"Año anterior\"**, se procede a separar y filtrar la información. Primero, se crea un DataFrame filtrado (`df_filtered`) con las columnas relevantes para los casos de años anteriores. Luego, se extraen únicamente los registros correspondientes al año **2023** en un nuevo DataFrame (`df_2023`). Este último conserva las columnas específicas de **mes**, **año**, **delito**, y los **casos mensuales del último año**, lo que permite analizar los casos del año más reciente de manera independiente. Esto asegura que la información esté correctamente segmentada para facilitar su análisis y comparación."
   ]
  },
  {
   "cell_type": "code",
   "execution_count": 15,
   "metadata": {},
   "outputs": [],
   "source": [
    "df_filtered = df_total[['Mes', 'Año anterior', 'Delito', 'Casos Mensuales Año Anterior']]\n",
    "df_2023 = df_total[df_total['Último año'] == 2023]\n",
    "df_2023 = df_2023[['Mes', 'Último año','Delito', 'Casos Mensuales Último Año']]"
   ]
  },
  {
   "cell_type": "code",
   "execution_count": 16,
   "metadata": {},
   "outputs": [],
   "source": [
    "df_2023.rename(columns={\n",
    "    'Mes': 'Mes',\n",
    "    'Último año': 'Año anterior',\n",
    "    'Delito': 'Delito',\n",
    "    'Casos Mensuales Último Año': 'Casos Mensuales Año Anterior'\n",
    "}, inplace=True)"
   ]
  },
  {
   "cell_type": "markdown",
   "metadata": {},
   "source": [
    "En este bloque de código, se integran los datos del año **2023** con los de años anteriores para crear un DataFrame consolidado. Primero, las columnas de `df_2023` se renombran para que coincidan con la estructura de `df_filtered`, lo que asegura consistencia en los nombres de las columnas. Luego, ambos DataFrames se concatenan utilizando `pd.concat`, generando un único conjunto de datos (`df_final`) con todos los años de análisis. Finalmente, se ajustan los valores en la columna **\"Casos Mensuales Año Anterior\"**, reemplazando posibles valores negativos por 0 mediante una función `lambda`, garantizando datos coherentes y listos para su análisis."
   ]
  },
  {
   "cell_type": "code",
   "execution_count": 17,
   "metadata": {},
   "outputs": [],
   "source": [
    "df_final = pd.concat([df_filtered, df_2023], ignore_index = True)"
   ]
  },
  {
   "cell_type": "code",
   "execution_count": 18,
   "metadata": {},
   "outputs": [],
   "source": [
    "df_final['Casos Mensuales Año Anterior'] = df_final['Casos Mensuales Año Anterior'].apply(lambda x: x if x >= 0 else 0)"
   ]
  },
  {
   "cell_type": "markdown",
   "metadata": {},
   "source": [
    "En este paso, se renombran las columnas del DataFrame consolidado (`df_final`) para hacerlas más claras y descriptivas. Por ejemplo, **\"Año anterior\"** se cambia a **\"Año\"** y **\"Casos Mensuales Año Anterior\"** se convierte en **\"Cantidad de casos\"**, lo que facilita la interpretación de los datos. Este cambio asegura que los nombres de las columnas sean más intuitivos y adecuados para su análisis y visualización, mejorando la legibilidad del conjunto de datos."
   ]
  },
  {
   "cell_type": "code",
   "execution_count": 19,
   "metadata": {},
   "outputs": [],
   "source": [
    "df_final.rename(columns={\n",
    "    'Mes': 'Mes',\n",
    "    'Año anterior': 'Año',\n",
    "    'Delito': 'Delito',\n",
    "    'Casos Mensuales Año Anterior': 'Cantidad de casos'\n",
    "}, inplace=True)\n"
   ]
  },
  {
   "cell_type": "markdown",
   "metadata": {},
   "source": [
    "Este proceso transforma el conjunto de datos para que sea compatible y óptimo para su uso en **Power BI**, asegurando un manejo eficiente y visualmente claro. Se realiza un mapeo de los meses a valores numéricos y se crea una columna de **\"Fecha\"** combinando el año, el mes y un día estándar (\"01\"), permitiendo trabajar con fechas en un formato adecuado para gráficos de series temporales. Además, se eliminan columnas intermedias y originales como **\"Mes\"** y **\"Año\"**, se reorganizan las columnas para priorizar **\"Fecha\"**, **\"Delito\"** y **\"Cantidad de casos\"**, y se reemplazan valores negativos en los datos por 0. Finalmente, el conjunto de datos procesado se exporta a un archivo CSV, listo para ser utilizado en tableros de visualización en Power BI."
   ]
  },
  {
   "cell_type": "code",
   "execution_count": 20,
   "metadata": {},
   "outputs": [],
   "source": [
    "# Crear un mapeo para los meses\n",
    "meses = {\n",
    "    \"Enero\": 1, \"Febrero\": 2, \"Marzo\": 3, \"Abril\": 4, \"Mayo\": 5,\n",
    "    \"Junio\": 6, \"Julio\": 7, \"Agosto\": 8, \"Septiembre\": 9, \"Octubre\": 10,\n",
    "    \"Noviembre\": 11, \"Diciembre\": 12\n",
    "}\n",
    "\n",
    "# Convertir el mes a número usando el mapeo\n",
    "df_final['Mes_numero'] = df_final['Mes'].map(meses)\n",
    "\n",
    "# Crear una nueva columna de fecha con el formato Año-Mes\n",
    "df_final['Fecha'] = pd.to_datetime(df_final['Año'].astype(str) + '-' + df_final['Mes_numero'].astype(str) + '-01')\n",
    "\n",
    "# Ahora puedes eliminar las columnas adicionales si ya no las necesitas\n",
    "df_final.drop(columns=['Mes_numero'], inplace=True)\n",
    "\n",
    "# Reemplazar los valores negativos en 'Cantidad de casos' por 0 (si es necesario)\n",
    "df_final['Cantidad de casos'] = df_final['Cantidad de casos'].apply(lambda x: max(0, x))\n",
    "\n",
    "# Crear la columna 'Fecha' con solo el año y el mes\n",
    "df_final['Fecha'] = df_final['Fecha'].dt.to_period('M')\n",
    "\n",
    "# Eliminar las columnas originales 'Mes' y 'Año'\n",
    "df_final.drop(columns=['Mes', 'Año'], inplace=True)\n",
    "\n",
    "# Reorganizar las columnas, poniendo 'Fecha' al principio\n",
    "df_final = df_final[['Fecha', 'Delito', 'Cantidad de casos']]\n",
    "\n",
    "# Exportar el DataFrame df_final a la ruta especificada\n",
    "df_final.to_csv(r'C:\\Users\\kamac\\OneDrive\\Desktop\\DelitosBarranquilla\\df_final.csv', index=False)"
   ]
  }
 ],
 "metadata": {
  "kernelspec": {
   "display_name": "data_viz",
   "language": "python",
   "name": "python3"
  },
  "language_info": {
   "codemirror_mode": {
    "name": "ipython",
    "version": 3
   },
   "file_extension": ".py",
   "mimetype": "text/x-python",
   "name": "python",
   "nbconvert_exporter": "python",
   "pygments_lexer": "ipython3",
   "version": "3.9.19"
  }
 },
 "nbformat": 4,
 "nbformat_minor": 2
}
