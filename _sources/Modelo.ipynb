{
 "cells": [
  {
   "cell_type": "markdown",
   "metadata": {},
   "source": [
    "# **Modelo de Machine learning**"
   ]
  },
  {
   "cell_type": "markdown",
   "metadata": {},
   "source": [
    "En esta sección, se desarrolla un modelo de **machine learning** con el objetivo de predecir la cantidad de **hurtos a personas** mensuales para los años **2024** y **2025**, utilizando como base los datos históricos de delitos en Barranquilla. El análisis se enfoca específicamente en los hurtos a personas, dado que representan una de las categorías de delitos más relevantes por su alta frecuencia e impacto significativo en la seguridad ciudadana. Para este fin, se empleará un modelo de series temporales **ARIMA** (Autoregressive Integrated Moving Average), ya que este tipo de modelo es especialmente adecuado para conjuntos de datos que se desarrollan a lo largo del tiempo, permitiendo capturar patrones históricos, tendencias y estacionalidad, proporcionando así predicciones precisas para los períodos futuros."
   ]
  },
  {
   "cell_type": "code",
   "execution_count": 24,
   "metadata": {},
   "outputs": [],
   "source": [
    "import pandas as pd\n",
    "import numpy as np\n",
    "import warnings\n",
    "warnings.filterwarnings(\"ignore\")\n",
    "from statsmodels.tsa.arima.model import ARIMA\n",
    "from sklearn.metrics import mean_squared_error"
   ]
  },
  {
   "cell_type": "markdown",
   "metadata": {},
   "source": [
    "Importamos el conjunto de datos que obtuvimos en la sección anterior."
   ]
  },
  {
   "cell_type": "code",
   "execution_count": 13,
   "metadata": {},
   "outputs": [],
   "source": [
    "df_final = pd.read_csv(r'C:\\Users\\kamac\\OneDrive\\Desktop\\DelitosBarranquilla\\df_final.csv')"
   ]
  },
  {
   "cell_type": "markdown",
   "metadata": {},
   "source": [
    "Filtramos el conjunto de datos por el delito de \"Hurtos a personas\", que es el caso de interés en este caso."
   ]
  },
  {
   "cell_type": "code",
   "execution_count": null,
   "metadata": {},
   "outputs": [
    {
     "data": {
      "text/html": [
       "<div>\n",
       "<style scoped>\n",
       "    .dataframe tbody tr th:only-of-type {\n",
       "        vertical-align: middle;\n",
       "    }\n",
       "\n",
       "    .dataframe tbody tr th {\n",
       "        vertical-align: top;\n",
       "    }\n",
       "\n",
       "    .dataframe thead th {\n",
       "        text-align: right;\n",
       "    }\n",
       "</style>\n",
       "<table border=\"1\" class=\"dataframe\">\n",
       "  <thead>\n",
       "    <tr style=\"text-align: right;\">\n",
       "      <th></th>\n",
       "      <th>Fecha</th>\n",
       "      <th>Delito</th>\n",
       "      <th>Cantidad de casos</th>\n",
       "    </tr>\n",
       "  </thead>\n",
       "  <tbody>\n",
       "    <tr>\n",
       "      <th>47</th>\n",
       "      <td>2019-01</td>\n",
       "      <td>Hurtos a personas</td>\n",
       "      <td>892</td>\n",
       "    </tr>\n",
       "    <tr>\n",
       "      <th>48</th>\n",
       "      <td>2019-02</td>\n",
       "      <td>Hurtos a personas</td>\n",
       "      <td>924</td>\n",
       "    </tr>\n",
       "    <tr>\n",
       "      <th>49</th>\n",
       "      <td>2019-03</td>\n",
       "      <td>Hurtos a personas</td>\n",
       "      <td>1164</td>\n",
       "    </tr>\n",
       "    <tr>\n",
       "      <th>50</th>\n",
       "      <td>2019-04</td>\n",
       "      <td>Hurtos a personas</td>\n",
       "      <td>760</td>\n",
       "    </tr>\n",
       "    <tr>\n",
       "      <th>51</th>\n",
       "      <td>2019-05</td>\n",
       "      <td>Hurtos a personas</td>\n",
       "      <td>959</td>\n",
       "    </tr>\n",
       "  </tbody>\n",
       "</table>\n",
       "</div>"
      ],
      "text/plain": [
       "      Fecha             Delito  Cantidad de casos\n",
       "47  2019-01  Hurtos a personas                892\n",
       "48  2019-02  Hurtos a personas                924\n",
       "49  2019-03  Hurtos a personas               1164\n",
       "50  2019-04  Hurtos a personas                760\n",
       "51  2019-05  Hurtos a personas                959"
      ]
     },
     "execution_count": 16,
     "metadata": {},
     "output_type": "execute_result"
    }
   ],
   "source": [
    "df_hurtos_personas = df_final[df_final['Delito'] == 'Hurtos a personas']\n",
    "df_hurtos_personas.head()"
   ]
  },
  {
   "cell_type": "code",
   "execution_count": 17,
   "metadata": {},
   "outputs": [
    {
     "data": {
      "text/plain": [
       "(57, 3)"
      ]
     },
     "execution_count": 17,
     "metadata": {},
     "output_type": "execute_result"
    }
   ],
   "source": [
    "df_hurtos_personas.shape"
   ]
  },
  {
   "cell_type": "markdown",
   "metadata": {},
   "source": [
    "Notamos que los datos que usaremos contienen **57** observaciones y **3** variables."
   ]
  },
  {
   "cell_type": "markdown",
   "metadata": {},
   "source": [
    "En este bloque de código, se asegura que la columna **\"Fecha\"** esté en un formato adecuado para análisis de series temporales. Se agrega el primer día del mes (**\"-01\"**) a cada valor en la columna **\"Fecha\"** para convertirlo en un formato estándar de fecha (**YYYY-MM-DD**) utilizando la función `pd.to_datetime` de **pandas**. Esto es esencial para trabajar con datos temporales de manera precisa, permitiendo ordenar, filtrar y analizar los datos por períodos específicos. Luego, se visualizan los primeros (**head()**) y últimos (**tail()**) registros del DataFrame para verificar que la transformación se haya realizado correctamente."
   ]
  },
  {
   "cell_type": "code",
   "execution_count": null,
   "metadata": {},
   "outputs": [
    {
     "data": {
      "text/html": [
       "<div>\n",
       "<style scoped>\n",
       "    .dataframe tbody tr th:only-of-type {\n",
       "        vertical-align: middle;\n",
       "    }\n",
       "\n",
       "    .dataframe tbody tr th {\n",
       "        vertical-align: top;\n",
       "    }\n",
       "\n",
       "    .dataframe thead th {\n",
       "        text-align: right;\n",
       "    }\n",
       "</style>\n",
       "<table border=\"1\" class=\"dataframe\">\n",
       "  <thead>\n",
       "    <tr style=\"text-align: right;\">\n",
       "      <th></th>\n",
       "      <th>Fecha</th>\n",
       "      <th>Delito</th>\n",
       "      <th>Cantidad de casos</th>\n",
       "    </tr>\n",
       "  </thead>\n",
       "  <tbody>\n",
       "    <tr>\n",
       "      <th>47</th>\n",
       "      <td>2019-01-01</td>\n",
       "      <td>Hurtos a personas</td>\n",
       "      <td>892</td>\n",
       "    </tr>\n",
       "    <tr>\n",
       "      <th>48</th>\n",
       "      <td>2019-02-01</td>\n",
       "      <td>Hurtos a personas</td>\n",
       "      <td>924</td>\n",
       "    </tr>\n",
       "    <tr>\n",
       "      <th>49</th>\n",
       "      <td>2019-03-01</td>\n",
       "      <td>Hurtos a personas</td>\n",
       "      <td>1164</td>\n",
       "    </tr>\n",
       "    <tr>\n",
       "      <th>50</th>\n",
       "      <td>2019-04-01</td>\n",
       "      <td>Hurtos a personas</td>\n",
       "      <td>760</td>\n",
       "    </tr>\n",
       "    <tr>\n",
       "      <th>51</th>\n",
       "      <td>2019-05-01</td>\n",
       "      <td>Hurtos a personas</td>\n",
       "      <td>959</td>\n",
       "    </tr>\n",
       "  </tbody>\n",
       "</table>\n",
       "</div>"
      ],
      "text/plain": [
       "        Fecha             Delito  Cantidad de casos\n",
       "47 2019-01-01  Hurtos a personas                892\n",
       "48 2019-02-01  Hurtos a personas                924\n",
       "49 2019-03-01  Hurtos a personas               1164\n",
       "50 2019-04-01  Hurtos a personas                760\n",
       "51 2019-05-01  Hurtos a personas                959"
      ]
     },
     "execution_count": 18,
     "metadata": {},
     "output_type": "execute_result"
    }
   ],
   "source": [
    "# Asegurarnos de que la columna 'Fecha' esté en formato de fecha, añadiendo el primer día del mes\n",
    "df_hurtos_personas['Fecha'] = pd.to_datetime(df_hurtos_personas['Fecha'] + '-01', format='%Y-%m-%d')\n",
    "df_hurtos_personas.head()\n"
   ]
  },
  {
   "cell_type": "code",
   "execution_count": 19,
   "metadata": {},
   "outputs": [
    {
     "data": {
      "text/html": [
       "<div>\n",
       "<style scoped>\n",
       "    .dataframe tbody tr th:only-of-type {\n",
       "        vertical-align: middle;\n",
       "    }\n",
       "\n",
       "    .dataframe tbody tr th {\n",
       "        vertical-align: top;\n",
       "    }\n",
       "\n",
       "    .dataframe thead th {\n",
       "        text-align: right;\n",
       "    }\n",
       "</style>\n",
       "<table border=\"1\" class=\"dataframe\">\n",
       "  <thead>\n",
       "    <tr style=\"text-align: right;\">\n",
       "      <th></th>\n",
       "      <th>Fecha</th>\n",
       "      <th>Delito</th>\n",
       "      <th>Cantidad de casos</th>\n",
       "    </tr>\n",
       "  </thead>\n",
       "  <tbody>\n",
       "    <tr>\n",
       "      <th>348</th>\n",
       "      <td>2023-07-01</td>\n",
       "      <td>Hurtos a personas</td>\n",
       "      <td>1707</td>\n",
       "    </tr>\n",
       "    <tr>\n",
       "      <th>349</th>\n",
       "      <td>2023-08-01</td>\n",
       "      <td>Hurtos a personas</td>\n",
       "      <td>1218</td>\n",
       "    </tr>\n",
       "    <tr>\n",
       "      <th>350</th>\n",
       "      <td>2023-09-01</td>\n",
       "      <td>Hurtos a personas</td>\n",
       "      <td>1026</td>\n",
       "    </tr>\n",
       "    <tr>\n",
       "      <th>351</th>\n",
       "      <td>2023-10-01</td>\n",
       "      <td>Hurtos a personas</td>\n",
       "      <td>180</td>\n",
       "    </tr>\n",
       "    <tr>\n",
       "      <th>352</th>\n",
       "      <td>2023-11-01</td>\n",
       "      <td>Hurtos a personas</td>\n",
       "      <td>72</td>\n",
       "    </tr>\n",
       "  </tbody>\n",
       "</table>\n",
       "</div>"
      ],
      "text/plain": [
       "         Fecha             Delito  Cantidad de casos\n",
       "348 2023-07-01  Hurtos a personas               1707\n",
       "349 2023-08-01  Hurtos a personas               1218\n",
       "350 2023-09-01  Hurtos a personas               1026\n",
       "351 2023-10-01  Hurtos a personas                180\n",
       "352 2023-11-01  Hurtos a personas                 72"
      ]
     },
     "execution_count": 19,
     "metadata": {},
     "output_type": "execute_result"
    }
   ],
   "source": [
    "df_hurtos_personas.tail()"
   ]
  },
  {
   "cell_type": "markdown",
   "metadata": {},
   "source": [
    "En este bloque de código, se utiliza un modelo de series temporales **ARIMA** para predecir la cantidad de **hurtos a personas** para cada mes del año **2024**, basándose en los datos históricos disponibles. Primero, se filtran los datos por cada mes, ajustando un modelo **ARIMA** para cada uno, y luego se realiza la predicción para el siguiente mes en la serie temporal. Los resultados se almacenan en un DataFrame para cada mes y, finalmente, se consolidan todas las predicciones en un solo DataFrame. Este proceso se realiza de manera iterativa para generar las predicciones de todos los meses del año 2024. Posteriormente, el mismo procedimiento se aplica para el año **2025**, utilizando las predicciones de 2024 como base para continuar con la serie temporal. Esto asegura una predicción continua y permite obtener estimaciones para ambos años."
   ]
  },
  {
   "cell_type": "code",
   "execution_count": 25,
   "metadata": {},
   "outputs": [
    {
     "data": {
      "text/html": [
       "<div>\n",
       "<style scoped>\n",
       "    .dataframe tbody tr th:only-of-type {\n",
       "        vertical-align: middle;\n",
       "    }\n",
       "\n",
       "    .dataframe tbody tr th {\n",
       "        vertical-align: top;\n",
       "    }\n",
       "\n",
       "    .dataframe thead th {\n",
       "        text-align: right;\n",
       "    }\n",
       "</style>\n",
       "<table border=\"1\" class=\"dataframe\">\n",
       "  <thead>\n",
       "    <tr style=\"text-align: right;\">\n",
       "      <th></th>\n",
       "      <th>Fecha</th>\n",
       "      <th>Delito</th>\n",
       "      <th>Cantidad de casos</th>\n",
       "    </tr>\n",
       "  </thead>\n",
       "  <tbody>\n",
       "    <tr>\n",
       "      <th>0</th>\n",
       "      <td>2024-01-01</td>\n",
       "      <td>Hurtos a personas</td>\n",
       "      <td>921</td>\n",
       "    </tr>\n",
       "    <tr>\n",
       "      <th>1</th>\n",
       "      <td>2024-02-01</td>\n",
       "      <td>Hurtos a personas</td>\n",
       "      <td>1974</td>\n",
       "    </tr>\n",
       "    <tr>\n",
       "      <th>2</th>\n",
       "      <td>2024-03-01</td>\n",
       "      <td>Hurtos a personas</td>\n",
       "      <td>800</td>\n",
       "    </tr>\n",
       "    <tr>\n",
       "      <th>3</th>\n",
       "      <td>2024-04-01</td>\n",
       "      <td>Hurtos a personas</td>\n",
       "      <td>1373</td>\n",
       "    </tr>\n",
       "    <tr>\n",
       "      <th>4</th>\n",
       "      <td>2024-05-01</td>\n",
       "      <td>Hurtos a personas</td>\n",
       "      <td>1192</td>\n",
       "    </tr>\n",
       "    <tr>\n",
       "      <th>5</th>\n",
       "      <td>2024-06-01</td>\n",
       "      <td>Hurtos a personas</td>\n",
       "      <td>1796</td>\n",
       "    </tr>\n",
       "    <tr>\n",
       "      <th>6</th>\n",
       "      <td>2024-07-01</td>\n",
       "      <td>Hurtos a personas</td>\n",
       "      <td>1776</td>\n",
       "    </tr>\n",
       "    <tr>\n",
       "      <th>7</th>\n",
       "      <td>2024-08-01</td>\n",
       "      <td>Hurtos a personas</td>\n",
       "      <td>1225</td>\n",
       "    </tr>\n",
       "    <tr>\n",
       "      <th>8</th>\n",
       "      <td>2024-09-01</td>\n",
       "      <td>Hurtos a personas</td>\n",
       "      <td>985</td>\n",
       "    </tr>\n",
       "    <tr>\n",
       "      <th>9</th>\n",
       "      <td>2024-10-01</td>\n",
       "      <td>Hurtos a personas</td>\n",
       "      <td>465</td>\n",
       "    </tr>\n",
       "    <tr>\n",
       "      <th>10</th>\n",
       "      <td>2024-11-01</td>\n",
       "      <td>Hurtos a personas</td>\n",
       "      <td>65</td>\n",
       "    </tr>\n",
       "  </tbody>\n",
       "</table>\n",
       "</div>"
      ],
      "text/plain": [
       "        Fecha             Delito  Cantidad de casos\n",
       "0  2024-01-01  Hurtos a personas                921\n",
       "1  2024-02-01  Hurtos a personas               1974\n",
       "2  2024-03-01  Hurtos a personas                800\n",
       "3  2024-04-01  Hurtos a personas               1373\n",
       "4  2024-05-01  Hurtos a personas               1192\n",
       "5  2024-06-01  Hurtos a personas               1796\n",
       "6  2024-07-01  Hurtos a personas               1776\n",
       "7  2024-08-01  Hurtos a personas               1225\n",
       "8  2024-09-01  Hurtos a personas                985\n",
       "9  2024-10-01  Hurtos a personas                465\n",
       "10 2024-11-01  Hurtos a personas                 65"
      ]
     },
     "execution_count": 25,
     "metadata": {},
     "output_type": "execute_result"
    }
   ],
   "source": [
    "# Asegurarse de que la columna 'Fecha' esté en formato datetime\n",
    "df_hurtos_personas['Fecha'] = pd.to_datetime(df_hurtos_personas['Fecha'], errors='coerce')\n",
    "\n",
    "# Lista de meses para realizar las predicciones\n",
    "meses = [1, 2, 3, 4, 5, 6, 7, 8, 9, 10, 11 ]\n",
    "\n",
    "# Diccionario para almacenar los resultados de las predicciones\n",
    "predicciones = []\n",
    "\n",
    "# Realizar predicciones para cada mes\n",
    "for mes in meses:\n",
    "    # Filtrar los datos por mes\n",
    "    df_mes = df_hurtos_personas[df_hurtos_personas['Fecha'].dt.month == mes]\n",
    "    df_mes.set_index('Fecha', inplace=True)\n",
    "\n",
    "    # Ajustar el modelo ARIMA (ajustar los parámetros p, d, q si es necesario)\n",
    "    modelo_mes = ARIMA(df_mes['Cantidad de casos'], order=(1, 1, 1))  # p=1, d=1, q=1 como ejemplo\n",
    "    modelo_fit_mes = modelo_mes.fit()\n",
    "\n",
    "    # Realizar la predicción para el siguiente mes\n",
    "    forecast_mes = modelo_fit_mes.forecast(steps=1)\n",
    "\n",
    "    # Crear la fecha de la predicción\n",
    "    forecast_date_mes = pd.to_datetime(f'2024-{mes:02d}-01')\n",
    "\n",
    "    # Redondear la predicción al siguiente número entero\n",
    "    forecast_mes_redondeado = round(forecast_mes[0])\n",
    "\n",
    "    # Crear un DataFrame con las predicciones\n",
    "    forecast_df_mes = pd.DataFrame({\n",
    "        'Fecha': [forecast_date_mes],\n",
    "        'Delito': ['Hurtos a personas'],  # Aquí puedes cambiar el delito según sea necesario\n",
    "        'Cantidad de casos': [forecast_mes_redondeado]\n",
    "    })\n",
    "\n",
    "    # Almacenar la predicción\n",
    "    predicciones.append(forecast_df_mes)\n",
    "\n",
    "# Concatenar todas las predicciones en un solo DataFrame\n",
    "df_predicciones = pd.concat(predicciones, ignore_index=True)\n",
    "\n",
    "df_predicciones\n"
   ]
  },
  {
   "cell_type": "markdown",
   "metadata": {},
   "source": [
    "Se concatenan las predicciones generadas para el año **2024** con los datos históricos disponibles, formando un nuevo conjunto de datos completo que incluye tanto los valores observados como los predichos. Esto permite extender la serie temporal y utilizarla como base para realizar las predicciones de los meses del año **2025**, asegurando una continuidad en el análisis y maximizando la precisión de las estimaciones para el segundo año."
   ]
  },
  {
   "cell_type": "code",
   "execution_count": null,
   "metadata": {},
   "outputs": [],
   "source": [
    "df_modelo = pd.concat([df_hurtos_personas, df_predicciones], ignore_index=True)"
   ]
  },
  {
   "cell_type": "code",
   "execution_count": null,
   "metadata": {},
   "outputs": [
    {
     "data": {
      "text/html": [
       "<div>\n",
       "<style scoped>\n",
       "    .dataframe tbody tr th:only-of-type {\n",
       "        vertical-align: middle;\n",
       "    }\n",
       "\n",
       "    .dataframe tbody tr th {\n",
       "        vertical-align: top;\n",
       "    }\n",
       "\n",
       "    .dataframe thead th {\n",
       "        text-align: right;\n",
       "    }\n",
       "</style>\n",
       "<table border=\"1\" class=\"dataframe\">\n",
       "  <thead>\n",
       "    <tr style=\"text-align: right;\">\n",
       "      <th></th>\n",
       "      <th>Fecha</th>\n",
       "      <th>Delito</th>\n",
       "      <th>Cantidad de casos</th>\n",
       "    </tr>\n",
       "  </thead>\n",
       "  <tbody>\n",
       "    <tr>\n",
       "      <th>0</th>\n",
       "      <td>2025-01-01</td>\n",
       "      <td>Hurtos a personas</td>\n",
       "      <td>921</td>\n",
       "    </tr>\n",
       "    <tr>\n",
       "      <th>1</th>\n",
       "      <td>2025-02-01</td>\n",
       "      <td>Hurtos a personas</td>\n",
       "      <td>1954</td>\n",
       "    </tr>\n",
       "    <tr>\n",
       "      <th>2</th>\n",
       "      <td>2025-03-01</td>\n",
       "      <td>Hurtos a personas</td>\n",
       "      <td>908</td>\n",
       "    </tr>\n",
       "    <tr>\n",
       "      <th>3</th>\n",
       "      <td>2025-04-01</td>\n",
       "      <td>Hurtos a personas</td>\n",
       "      <td>1373</td>\n",
       "    </tr>\n",
       "    <tr>\n",
       "      <th>4</th>\n",
       "      <td>2025-05-01</td>\n",
       "      <td>Hurtos a personas</td>\n",
       "      <td>172</td>\n",
       "    </tr>\n",
       "    <tr>\n",
       "      <th>5</th>\n",
       "      <td>2025-06-01</td>\n",
       "      <td>Hurtos a personas</td>\n",
       "      <td>1796</td>\n",
       "    </tr>\n",
       "    <tr>\n",
       "      <th>6</th>\n",
       "      <td>2025-07-01</td>\n",
       "      <td>Hurtos a personas</td>\n",
       "      <td>1768</td>\n",
       "    </tr>\n",
       "    <tr>\n",
       "      <th>7</th>\n",
       "      <td>2025-08-01</td>\n",
       "      <td>Hurtos a personas</td>\n",
       "      <td>1229</td>\n",
       "    </tr>\n",
       "    <tr>\n",
       "      <th>8</th>\n",
       "      <td>2025-09-01</td>\n",
       "      <td>Hurtos a personas</td>\n",
       "      <td>971</td>\n",
       "    </tr>\n",
       "    <tr>\n",
       "      <th>9</th>\n",
       "      <td>2025-10-01</td>\n",
       "      <td>Hurtos a personas</td>\n",
       "      <td>555</td>\n",
       "    </tr>\n",
       "  </tbody>\n",
       "</table>\n",
       "</div>"
      ],
      "text/plain": [
       "       Fecha             Delito  Cantidad de casos\n",
       "0 2025-01-01  Hurtos a personas                921\n",
       "1 2025-02-01  Hurtos a personas               1954\n",
       "2 2025-03-01  Hurtos a personas                908\n",
       "3 2025-04-01  Hurtos a personas               1373\n",
       "4 2025-05-01  Hurtos a personas                172\n",
       "5 2025-06-01  Hurtos a personas               1796\n",
       "6 2025-07-01  Hurtos a personas               1768\n",
       "7 2025-08-01  Hurtos a personas               1229\n",
       "8 2025-09-01  Hurtos a personas                971\n",
       "9 2025-10-01  Hurtos a personas                555"
      ]
     },
     "metadata": {},
     "output_type": "display_data"
    }
   ],
   "source": [
    "# Asegurarse de que la columna 'Fecha' esté en formato datetime\n",
    "df_modelo['Fecha'] = pd.to_datetime(df_modelo['Fecha'], errors='coerce')\n",
    "\n",
    "# Lista de meses para realizar las predicciones para 2025\n",
    "meses = [1, 2, 3, 4, 5, 6, 7, 8, 9, 10]  # Meses de todo el año\n",
    "\n",
    "# Diccionario para almacenar los resultados de las predicciones\n",
    "predicciones_2025 = []\n",
    "\n",
    "# Realizar predicciones para cada mes de 2025\n",
    "for mes in meses:\n",
    "    # Filtrar los datos por mes\n",
    "    df_mes = df_modelo[df_modelo['Fecha'].dt.month == mes]\n",
    "    df_mes.set_index('Fecha', inplace=True)\n",
    "\n",
    "    # Ajustar el modelo ARIMA (ajustar los parámetros p, d, q si es necesario)\n",
    "    modelo_mes = ARIMA(df_mes['Cantidad de casos'], order=(1, 1, 1))  # p=1, d=1, q=1 como ejemplo\n",
    "    modelo_fit_mes = modelo_mes.fit()\n",
    "\n",
    "    # Realizar la predicción para el siguiente mes\n",
    "    forecast_mes = modelo_fit_mes.forecast(steps=1)\n",
    "\n",
    "    # Crear la fecha de la predicción para el año 2025\n",
    "    forecast_date_mes = pd.to_datetime(f'2025-{mes:02d}-01')\n",
    "\n",
    "    # Redondear la predicción al siguiente número entero\n",
    "    forecast_mes_redondeado = round(forecast_mes[0])\n",
    "\n",
    "    # Crear un DataFrame con las predicciones\n",
    "    forecast_df_mes = pd.DataFrame({\n",
    "        'Fecha': [forecast_date_mes],\n",
    "        'Delito': ['Hurtos a personas'],  # Aquí puedes cambiar el delito según sea necesario\n",
    "        'Cantidad de casos': [forecast_mes_redondeado]\n",
    "    })\n",
    "\n",
    "    # Almacenar la predicción\n",
    "    predicciones_2025.append(forecast_df_mes)\n",
    "\n",
    "# Concatenar todas las predicciones de 2025 en un solo DataFrame\n",
    "df_predicciones_2025 = pd.concat(predicciones_2025, ignore_index=True)\n",
    "\n",
    "# Mostrar las predicciones de 2025\n",
    "df_predicciones_2025\n"
   ]
  },
  {
   "cell_type": "markdown",
   "metadata": {},
   "source": [
    "Finalmente, los datos históricos junto con las predicciones generadas para los años **2024** y **2025** se combinan en un único conjunto de datos. Este conjunto incluye tanto los registros originales como las estimaciones realizadas, proporcionando una visión completa de los hurtos a personas en el tiempo. Posteriormente, este conjunto de datos consolidado se exporta a un archivo **CSV**, facilitando su análisis y visualización en herramientas como **Power BI** para explorar tendencias y diseñar estrategias basadas en las predicciones futuras."
   ]
  },
  {
   "cell_type": "code",
   "execution_count": null,
   "metadata": {},
   "outputs": [],
   "source": [
    "df_modelos = pd.concat([df_modelo, df_predicciones_2025], ignore_index=True)\n",
    "df_modelos.to_csv(r'C:\\Users\\kamac\\OneDrive\\Desktop\\DelitosBarranquilla\\predicciones_hurtos_2024_2025.csv', index=False)"
   ]
  }
 ],
 "metadata": {
  "kernelspec": {
   "display_name": "data_viz",
   "language": "python",
   "name": "python3"
  },
  "language_info": {
   "codemirror_mode": {
    "name": "ipython",
    "version": 3
   },
   "file_extension": ".py",
   "mimetype": "text/x-python",
   "name": "python",
   "nbconvert_exporter": "python",
   "pygments_lexer": "ipython3",
   "version": "3.9.19"
  }
 },
 "nbformat": 4,
 "nbformat_minor": 2
}
