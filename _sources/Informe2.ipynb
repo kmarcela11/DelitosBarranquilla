{
 "cells": [
  {
   "cell_type": "markdown",
   "metadata": {},
   "source": [
    "# **EDA y ETL: Conjunto de datos 2 y 3**"
   ]
  },
  {
   "cell_type": "markdown",
   "metadata": {},
   "source": [
    "## **Librerías y modulos necesarios**"
   ]
  },
  {
   "cell_type": "markdown",
   "metadata": {},
   "source": [
    "En este caso las librerías necesarias para el desarrollo son las siguientes:"
   ]
  },
  {
   "cell_type": "code",
   "execution_count": null,
   "metadata": {},
   "outputs": [],
   "source": [
    "import pandas as pd\n",
    "import numpy as np\n",
    "import warnings\n",
    "warnings.filterwarnings(\"ignore\")"
   ]
  },
  {
   "cell_type": "markdown",
   "metadata": {},
   "source": [
    "Dado que en la primera parte del análisis de delitos en Barranquilla se identificó que el delito más frecuente es el **Hurto**, procederemos a analizar los hurtos a nivel nacional en Colombia utilizando conjuntos de datos proporcionados por el portal oficial de **Datos Abiertos Colombia**. Este análisis busca comprender las tendencias, patrones y factores asociados a este delito en el contexto nacional, proporcionando una perspectiva más amplia que complemente el enfoque local inicial."
   ]
  },
  {
   "cell_type": "markdown",
   "metadata": {},
   "source": [
    "Inicialmente hacemos el cargue de los conjuntos de datos."
   ]
  },
  {
   "cell_type": "markdown",
   "metadata": {},
   "source": [
    "Es importante destacar que estos conjuntos de datos están relacionados con los hurtos en Colombia y proporcionan información detallada sobre este delito en sus diferentes modalidades. Los datos abarcan el periodo desde el 1 de enero del año 2010 hasta el 30 de abril del año 2024, y han sido proporcionados por la **DIJIN - Policía Nacional**."
   ]
  },
  {
   "cell_type": "markdown",
   "metadata": {},
   "source": [
    "Los conjuntos de datos se pueden encontrar en los siguientes enlaces:\n",
    "\n",
    "- [Reporte Hurto por Modalidades - Policía Nacional (Conjunto 1)](https://www.datos.gov.co/Seguridad-y-Defensa/Reporte-Hurto-por-Modalidades-Polic-a-Nacional/6sqw-8cg5/about_data)\n",
    "\n",
    "- [Reporte Hurto por Modalidades - Policía Nacional (Conjunto 2)](https://www.datos.gov.co/Seguridad-y-Defensa/Reporte-Hurto-por-Modalidades-Polic-a-Nacional/9vha-vh9n/about_data)\n"
   ]
  },
  {
   "cell_type": "code",
   "execution_count": 2,
   "metadata": {},
   "outputs": [],
   "source": [
    "data = pd.read_csv(r\"C:\\Users\\kamac\\OneDrive\\Desktop\\DelitosBarranquilla\\hurtos_colombia.csv\")\n",
    "data2 = pd.read_csv(r\"C:\\Users\\kamac\\OneDrive\\Desktop\\DelitosBarranquilla\\hurtos2_colombia.csv\")"
   ]
  },
  {
   "cell_type": "markdown",
   "metadata": {},
   "source": [
    "Veamos ahora las cinco primeras observaciones de cada conjunto."
   ]
  },
  {
   "cell_type": "code",
   "execution_count": 3,
   "metadata": {},
   "outputs": [
    {
     "data": {
      "text/html": [
       "<div>\n",
       "<style scoped>\n",
       "    .dataframe tbody tr th:only-of-type {\n",
       "        vertical-align: middle;\n",
       "    }\n",
       "\n",
       "    .dataframe tbody tr th {\n",
       "        vertical-align: top;\n",
       "    }\n",
       "\n",
       "    .dataframe thead th {\n",
       "        text-align: right;\n",
       "    }\n",
       "</style>\n",
       "<table border=\"1\" class=\"dataframe\">\n",
       "  <thead>\n",
       "    <tr style=\"text-align: right;\">\n",
       "      <th></th>\n",
       "      <th>DEPARTAMENTO</th>\n",
       "      <th>MUNICIPIO</th>\n",
       "      <th>CODIGO DANE</th>\n",
       "      <th>ARMAS MEDIOS</th>\n",
       "      <th>FECHA HECHO</th>\n",
       "      <th>GENERO</th>\n",
       "      <th>GRUPO ETARIO</th>\n",
       "      <th>TIPO DE HURTO</th>\n",
       "      <th>CANTIDAD</th>\n",
       "    </tr>\n",
       "  </thead>\n",
       "  <tbody>\n",
       "    <tr>\n",
       "      <th>0</th>\n",
       "      <td>ANTIOQUIA</td>\n",
       "      <td>MEDELLÍN (CT)</td>\n",
       "      <td>5001000</td>\n",
       "      <td>ARMA DE FUEGO</td>\n",
       "      <td>1/01/2010</td>\n",
       "      <td>NO APLICA</td>\n",
       "      <td>NO APLICA</td>\n",
       "      <td>HURTO AUTOMOTORES</td>\n",
       "      <td>1</td>\n",
       "    </tr>\n",
       "    <tr>\n",
       "      <th>1</th>\n",
       "      <td>ANTIOQUIA</td>\n",
       "      <td>COPACABANA</td>\n",
       "      <td>5212000</td>\n",
       "      <td>LLAVE MAESTRA</td>\n",
       "      <td>1/01/2010</td>\n",
       "      <td>NO APLICA</td>\n",
       "      <td>NO APLICA</td>\n",
       "      <td>HURTO AUTOMOTORES</td>\n",
       "      <td>1</td>\n",
       "    </tr>\n",
       "    <tr>\n",
       "      <th>2</th>\n",
       "      <td>ANTIOQUIA</td>\n",
       "      <td>MEDELLÍN (CT)</td>\n",
       "      <td>5001000</td>\n",
       "      <td>LLAVE MAESTRA</td>\n",
       "      <td>1/01/2010</td>\n",
       "      <td>NO APLICA</td>\n",
       "      <td>NO APLICA</td>\n",
       "      <td>HURTO AUTOMOTORES</td>\n",
       "      <td>1</td>\n",
       "    </tr>\n",
       "    <tr>\n",
       "      <th>3</th>\n",
       "      <td>CUNDINAMARCA</td>\n",
       "      <td>BOGOTÁ D.C. (CT)</td>\n",
       "      <td>11001000</td>\n",
       "      <td>LLAVE MAESTRA</td>\n",
       "      <td>1/01/2010</td>\n",
       "      <td>NO APLICA</td>\n",
       "      <td>NO APLICA</td>\n",
       "      <td>HURTO AUTOMOTORES</td>\n",
       "      <td>1</td>\n",
       "    </tr>\n",
       "    <tr>\n",
       "      <th>4</th>\n",
       "      <td>VALLE</td>\n",
       "      <td>CALI (CT)</td>\n",
       "      <td>76001000</td>\n",
       "      <td>LLAVE MAESTRA</td>\n",
       "      <td>1/01/2010</td>\n",
       "      <td>NO APLICA</td>\n",
       "      <td>NO APLICA</td>\n",
       "      <td>HURTO AUTOMOTORES</td>\n",
       "      <td>1</td>\n",
       "    </tr>\n",
       "  </tbody>\n",
       "</table>\n",
       "</div>"
      ],
      "text/plain": [
       "   DEPARTAMENTO         MUNICIPIO CODIGO DANE   ARMAS MEDIOS FECHA HECHO  \\\n",
       "0     ANTIOQUIA     MEDELLÍN (CT)     5001000  ARMA DE FUEGO   1/01/2010   \n",
       "1     ANTIOQUIA        COPACABANA     5212000  LLAVE MAESTRA   1/01/2010   \n",
       "2     ANTIOQUIA     MEDELLÍN (CT)     5001000  LLAVE MAESTRA   1/01/2010   \n",
       "3  CUNDINAMARCA  BOGOTÁ D.C. (CT)    11001000  LLAVE MAESTRA   1/01/2010   \n",
       "4         VALLE         CALI (CT)    76001000  LLAVE MAESTRA   1/01/2010   \n",
       "\n",
       "      GENERO GRUPO ETARIO      TIPO DE HURTO  CANTIDAD  \n",
       "0  NO APLICA    NO APLICA  HURTO AUTOMOTORES         1  \n",
       "1  NO APLICA    NO APLICA  HURTO AUTOMOTORES         1  \n",
       "2  NO APLICA    NO APLICA  HURTO AUTOMOTORES         1  \n",
       "3  NO APLICA    NO APLICA  HURTO AUTOMOTORES         1  \n",
       "4  NO APLICA    NO APLICA  HURTO AUTOMOTORES         1  "
      ]
     },
     "execution_count": 3,
     "metadata": {},
     "output_type": "execute_result"
    }
   ],
   "source": [
    "data.head()"
   ]
  },
  {
   "cell_type": "code",
   "execution_count": 4,
   "metadata": {},
   "outputs": [
    {
     "data": {
      "text/plain": [
       "(376433, 9)"
      ]
     },
     "execution_count": 4,
     "metadata": {},
     "output_type": "execute_result"
    }
   ],
   "source": [
    "data.shape"
   ]
  },
  {
   "cell_type": "markdown",
   "metadata": {},
   "source": [
    "Nótese que esta primera base de datos cuenta con **376.433** observaciones y **9** columnas"
   ]
  },
  {
   "cell_type": "code",
   "execution_count": 5,
   "metadata": {},
   "outputs": [
    {
     "data": {
      "text/html": [
       "<div>\n",
       "<style scoped>\n",
       "    .dataframe tbody tr th:only-of-type {\n",
       "        vertical-align: middle;\n",
       "    }\n",
       "\n",
       "    .dataframe tbody tr th {\n",
       "        vertical-align: top;\n",
       "    }\n",
       "\n",
       "    .dataframe thead th {\n",
       "        text-align: right;\n",
       "    }\n",
       "</style>\n",
       "<table border=\"1\" class=\"dataframe\">\n",
       "  <thead>\n",
       "    <tr style=\"text-align: right;\">\n",
       "      <th></th>\n",
       "      <th>DEPARTAMENTO</th>\n",
       "      <th>MUNICIPIO</th>\n",
       "      <th>CODIGO DANE</th>\n",
       "      <th>ARMAS MEDIOS</th>\n",
       "      <th>FECHA HECHO</th>\n",
       "      <th>GENERO</th>\n",
       "      <th>GRUPO ETARIO</th>\n",
       "      <th>TIPO DE HURTO</th>\n",
       "      <th>CANTIDAD</th>\n",
       "    </tr>\n",
       "  </thead>\n",
       "  <tbody>\n",
       "    <tr>\n",
       "      <th>0</th>\n",
       "      <td>CAQUETÁ</td>\n",
       "      <td>SAN VICENTE DEL CAGUÁN</td>\n",
       "      <td>18753000</td>\n",
       "      <td>ARMA BLANCA / CORTOPUNZANTE</td>\n",
       "      <td>1/01/2010</td>\n",
       "      <td>FEMENINO</td>\n",
       "      <td>ADULTOS</td>\n",
       "      <td>HURTO RESIDENCIAS</td>\n",
       "      <td>1</td>\n",
       "    </tr>\n",
       "    <tr>\n",
       "      <th>1</th>\n",
       "      <td>CAUCA</td>\n",
       "      <td>POPAYÁN (CT)</td>\n",
       "      <td>19001000</td>\n",
       "      <td>ARMA BLANCA / CORTOPUNZANTE</td>\n",
       "      <td>1/01/2010</td>\n",
       "      <td>FEMENINO</td>\n",
       "      <td>ADULTOS</td>\n",
       "      <td>HURTO RESIDENCIAS</td>\n",
       "      <td>2</td>\n",
       "    </tr>\n",
       "    <tr>\n",
       "      <th>2</th>\n",
       "      <td>HUILA</td>\n",
       "      <td>PITALITO</td>\n",
       "      <td>41551000</td>\n",
       "      <td>ARMA DE FUEGO</td>\n",
       "      <td>1/01/2010</td>\n",
       "      <td>MASCULINO</td>\n",
       "      <td>ADULTOS</td>\n",
       "      <td>HURTO RESIDENCIAS</td>\n",
       "      <td>1</td>\n",
       "    </tr>\n",
       "    <tr>\n",
       "      <th>3</th>\n",
       "      <td>VALLE</td>\n",
       "      <td>JAMUNDÍ</td>\n",
       "      <td>76364000</td>\n",
       "      <td>ARMA DE FUEGO</td>\n",
       "      <td>1/01/2010</td>\n",
       "      <td>MASCULINO</td>\n",
       "      <td>ADULTOS</td>\n",
       "      <td>HURTO RESIDENCIAS</td>\n",
       "      <td>1</td>\n",
       "    </tr>\n",
       "    <tr>\n",
       "      <th>4</th>\n",
       "      <td>AMAZONAS</td>\n",
       "      <td>LETICIA (CT)</td>\n",
       "      <td>91001000</td>\n",
       "      <td>CONTUNDENTES</td>\n",
       "      <td>1/01/2010</td>\n",
       "      <td>MASCULINO</td>\n",
       "      <td>ADULTOS</td>\n",
       "      <td>HURTO RESIDENCIAS</td>\n",
       "      <td>1</td>\n",
       "    </tr>\n",
       "  </tbody>\n",
       "</table>\n",
       "</div>"
      ],
      "text/plain": [
       "  DEPARTAMENTO               MUNICIPIO CODIGO DANE  \\\n",
       "0      CAQUETÁ  SAN VICENTE DEL CAGUÁN    18753000   \n",
       "1        CAUCA            POPAYÁN (CT)    19001000   \n",
       "2        HUILA                PITALITO    41551000   \n",
       "3        VALLE                 JAMUNDÍ    76364000   \n",
       "4     AMAZONAS            LETICIA (CT)    91001000   \n",
       "\n",
       "                  ARMAS MEDIOS FECHA HECHO     GENERO GRUPO ETARIO  \\\n",
       "0  ARMA BLANCA / CORTOPUNZANTE   1/01/2010   FEMENINO      ADULTOS   \n",
       "1  ARMA BLANCA / CORTOPUNZANTE   1/01/2010   FEMENINO      ADULTOS   \n",
       "2                ARMA DE FUEGO   1/01/2010  MASCULINO      ADULTOS   \n",
       "3                ARMA DE FUEGO   1/01/2010  MASCULINO      ADULTOS   \n",
       "4                 CONTUNDENTES   1/01/2010  MASCULINO      ADULTOS   \n",
       "\n",
       "       TIPO DE HURTO  CANTIDAD  \n",
       "0  HURTO RESIDENCIAS         1  \n",
       "1  HURTO RESIDENCIAS         2  \n",
       "2  HURTO RESIDENCIAS         1  \n",
       "3  HURTO RESIDENCIAS         1  \n",
       "4  HURTO RESIDENCIAS         1  "
      ]
     },
     "execution_count": 5,
     "metadata": {},
     "output_type": "execute_result"
    }
   ],
   "source": [
    "data2.head()"
   ]
  },
  {
   "cell_type": "code",
   "execution_count": 6,
   "metadata": {},
   "outputs": [
    {
     "data": {
      "text/plain": [
       "(669316, 9)"
      ]
     },
     "execution_count": 6,
     "metadata": {},
     "output_type": "execute_result"
    }
   ],
   "source": [
    "data2.shape"
   ]
  },
  {
   "cell_type": "markdown",
   "metadata": {},
   "source": [
    "Esta segunda base de datos cuenta con **669.316** observaciones y **9** observaciones"
   ]
  },
  {
   "cell_type": "markdown",
   "metadata": {},
   "source": [
    "Es importante destacar que ambos conjuntos de datos presentan diferentes categorías de hurto. Por esta razón, hemos decidido unificar y generalizar estas categorías bajo una única clasificación denominada **Hurto**. Esto nos permitirá analizar de manera más uniforme y consistente la frecuencia de este delito a lo largo de los años, proporcionando una visión integral de su evolución en el tiempo."
   ]
  },
  {
   "cell_type": "markdown",
   "metadata": {},
   "source": [
    "Dado que los datos utilizados para el análisis de Barranquilla corresponden a los últimos cinco años (2019, 2020, 2021, 2022 y 2023), excluyendo el año actual (2024), ambos conjuntos de datos serán filtrados para incluir únicamente este rango temporal. Antes de aplicar este filtro, las fechas en los conjuntos de datos serán convertidas a un formato legible por el sistema de programación, en este caso **Python**, utilizando la función `pd.to_datetime` de **pandas**. Además, para cada base de datos, se seleccionarán únicamente las columnas relevantes: `FECHA HECHO`, `DEPARTAMENTO`, `MUNICIPIO`, `TIPO DE HURTO` y `CANTIDAD`. Esto asegura una manipulación precisa y eficiente de los datos temporales y permite un análisis enfocado en las variables clave."
   ]
  },
  {
   "cell_type": "code",
   "execution_count": 7,
   "metadata": {},
   "outputs": [],
   "source": [
    "# Asegurarse de que la columna 'FECHA HECHO' esté en formato datetime\n",
    "data['FECHA HECHO'] = pd.to_datetime(data['FECHA HECHO'], format='%d/%m/%Y')\n",
    "data = data[['FECHA HECHO', 'DEPARTAMENTO', 'MUNICIPIO', 'TIPO DE HURTO', 'CANTIDAD']]\n",
    "# Filtrar los datos por años mayores o iguales a 2019\n",
    "data_2019 = data[data['FECHA HECHO'].dt.year == 2019]\n",
    "data_2020 = data[data['FECHA HECHO'].dt.year == 2020]\n",
    "data_2021 = data[data['FECHA HECHO'].dt.year == 2021]\n",
    "data_2022 = data[data['FECHA HECHO'].dt.year == 2022]\n",
    "data_2023 = data[data['FECHA HECHO'].dt.year == 2023]\n",
    "data_final = pd.concat([data_2019, data_2020, data_2021, data_2022, data_2023], ignore_index=True)"
   ]
  },
  {
   "cell_type": "code",
   "execution_count": 8,
   "metadata": {},
   "outputs": [],
   "source": [
    "# Asegurarse de que la columna 'FECHA HECHO' esté en formato datetime\n",
    "data2['FECHA HECHO'] = pd.to_datetime(data2['FECHA HECHO'], format='%d/%m/%Y')\n",
    "data2 = data2[['FECHA HECHO', 'DEPARTAMENTO', 'MUNICIPIO', 'TIPO DE HURTO', 'CANTIDAD']]\n",
    "# Filtrar los datos por años mayores o iguales a 2019\n",
    "data2_2019 = data2[data2['FECHA HECHO'].dt.year == 2019]\n",
    "data2_2020 = data2[data2['FECHA HECHO'].dt.year == 2020]\n",
    "data2_2021 = data2[data2['FECHA HECHO'].dt.year == 2021]\n",
    "data2_2022 = data2[data2['FECHA HECHO'].dt.year == 2022]\n",
    "data2_2023 = data2[data2['FECHA HECHO'].dt.year == 2023]\n",
    "data2_final = pd.concat([data2_2019, data2_2020, data2_2021, data2_2022, data2_2023], ignore_index=True)"
   ]
  },
  {
   "cell_type": "markdown",
   "metadata": {},
   "source": [
    "A continuación, las dos bases de datos previamente filtradas se combinarán en una sola, dado que ambas presentan las mismas columnas, lo que facilita su unión. La base de datos resultante de esta combinación será la utilizada para realizar la visualización de los hurtos en Colombia, asegurando que el análisis sea completo y represente toda la información disponible de manera unificada y consistente."
   ]
  },
  {
   "cell_type": "code",
   "execution_count": 9,
   "metadata": {},
   "outputs": [],
   "source": [
    "data_f  = pd.concat([data_final, data2_final], ignore_index = True)"
   ]
  },
  {
   "cell_type": "code",
   "execution_count": 10,
   "metadata": {},
   "outputs": [
    {
     "data": {
      "text/plain": [
       "(474917, 5)"
      ]
     },
     "execution_count": 10,
     "metadata": {},
     "output_type": "execute_result"
    }
   ],
   "source": [
    "data_f.shape"
   ]
  },
  {
   "cell_type": "markdown",
   "metadata": {},
   "source": [
    "Ahora, la nueva base de datos cuenta con **474.917** observaciones y **5** columnas. "
   ]
  },
  {
   "cell_type": "code",
   "execution_count": 11,
   "metadata": {},
   "outputs": [
    {
     "name": "stdout",
     "output_type": "stream",
     "text": [
      "Cantidad de valores únicos en 'MUNICIPIO': 1994\n"
     ]
    }
   ],
   "source": [
    "unique_count = data_f['MUNICIPIO'].nunique()\n",
    "print(f\"Cantidad de valores únicos en 'MUNICIPIO': {unique_count}\")\n"
   ]
  },
  {
   "cell_type": "markdown",
   "metadata": {},
   "source": [
    "Dado que se identificó la presencia de **1,994 municipios diferentes** en los datos, hemos decidido enfocar el análisis en el nivel de **DEPARTAMENTO**. Esto permitirá generar un análisis más claro y comprensible sobre los hurtos en Colombia, proporcionando una visión general y facilitando la interpretación de las tendencias y patrones de criminalidad a nivel regional."
   ]
  },
  {
   "cell_type": "code",
   "execution_count": 12,
   "metadata": {},
   "outputs": [],
   "source": [
    "data_f.drop(columns=['MUNICIPIO'], inplace=True)"
   ]
  },
  {
   "cell_type": "markdown",
   "metadata": {},
   "source": [
    "Ahora se unifican las diferentes categorías de hurto presentes en los datos bajo una única clasificación denominada **\"Hurtos\"**. Este proceso simplifica el análisis al agrupar todas las modalidades de hurto en una sola categoría, lo que facilita la identificación de tendencias generales y patrones a lo largo del tiempo y en los distintos departamentos de Colombia."
   ]
  },
  {
   "cell_type": "code",
   "execution_count": 13,
   "metadata": {},
   "outputs": [],
   "source": [
    "data_f['TIPO DE HURTO'] = 'Hurtos'"
   ]
  },
  {
   "cell_type": "markdown",
   "metadata": {},
   "source": [
    "Ahora se agruparán los delitos por meses, es decir, para cada mes desde enero de 2019 hasta diciembre de 2023, teniendo en cuenta las columnas **DEPARTAMENTO**, **TIPO DE HURTO** y las respectivas **CANTIDADES**. Este proceso permite analizar las tendencias temporales de los hurtos en Colombia de manera más detallada y organizada."
   ]
  },
  {
   "cell_type": "code",
   "execution_count": 14,
   "metadata": {},
   "outputs": [
    {
     "data": {
      "text/html": [
       "<div>\n",
       "<style scoped>\n",
       "    .dataframe tbody tr th:only-of-type {\n",
       "        vertical-align: middle;\n",
       "    }\n",
       "\n",
       "    .dataframe tbody tr th {\n",
       "        vertical-align: top;\n",
       "    }\n",
       "\n",
       "    .dataframe thead th {\n",
       "        text-align: right;\n",
       "    }\n",
       "</style>\n",
       "<table border=\"1\" class=\"dataframe\">\n",
       "  <thead>\n",
       "    <tr style=\"text-align: right;\">\n",
       "      <th></th>\n",
       "      <th>Año-Mes</th>\n",
       "      <th>DEPARTAMENTO</th>\n",
       "      <th>TIPO DE HURTO</th>\n",
       "      <th>CANTIDAD</th>\n",
       "    </tr>\n",
       "  </thead>\n",
       "  <tbody>\n",
       "    <tr>\n",
       "      <th>0</th>\n",
       "      <td>2019-01</td>\n",
       "      <td>AMAZONAS</td>\n",
       "      <td>Hurtos</td>\n",
       "      <td>29</td>\n",
       "    </tr>\n",
       "    <tr>\n",
       "      <th>1</th>\n",
       "      <td>2019-01</td>\n",
       "      <td>ANTIOQUIA</td>\n",
       "      <td>Hurtos</td>\n",
       "      <td>2094</td>\n",
       "    </tr>\n",
       "    <tr>\n",
       "      <th>2</th>\n",
       "      <td>2019-01</td>\n",
       "      <td>ARAUCA</td>\n",
       "      <td>Hurtos</td>\n",
       "      <td>69</td>\n",
       "    </tr>\n",
       "    <tr>\n",
       "      <th>3</th>\n",
       "      <td>2019-01</td>\n",
       "      <td>ATLÁNTICO</td>\n",
       "      <td>Hurtos</td>\n",
       "      <td>564</td>\n",
       "    </tr>\n",
       "    <tr>\n",
       "      <th>4</th>\n",
       "      <td>2019-01</td>\n",
       "      <td>BOLÍVAR</td>\n",
       "      <td>Hurtos</td>\n",
       "      <td>425</td>\n",
       "    </tr>\n",
       "  </tbody>\n",
       "</table>\n",
       "</div>"
      ],
      "text/plain": [
       "   Año-Mes DEPARTAMENTO TIPO DE HURTO  CANTIDAD\n",
       "0  2019-01     AMAZONAS        Hurtos        29\n",
       "1  2019-01    ANTIOQUIA        Hurtos      2094\n",
       "2  2019-01       ARAUCA        Hurtos        69\n",
       "3  2019-01    ATLÁNTICO        Hurtos       564\n",
       "4  2019-01      BOLÍVAR        Hurtos       425"
      ]
     },
     "execution_count": 14,
     "metadata": {},
     "output_type": "execute_result"
    }
   ],
   "source": [
    "# Asegurarse de que la columna 'FECHA HECHO' esté en formato datetime\n",
    "data_f['FECHA HECHO'] = pd.to_datetime(data_f['FECHA HECHO'])\n",
    "\n",
    "# Crear una columna de 'Año-Mes' para agrupar por mes y año\n",
    "data_f['Año-Mes'] = data_f['FECHA HECHO'].dt.to_period('M')\n",
    "\n",
    "# Agrupar por 'Año-Mes', 'Municipio', y 'Tipo de Hurto' y sumar los 'Cantidad de casos'\n",
    "data_agrupada = data_f.groupby(['Año-Mes', 'DEPARTAMENTO', 'TIPO DE HURTO'])['CANTIDAD'].sum().reset_index()\n",
    "\n",
    "# Ver los primeros registros después de agrupar\n",
    "data_agrupada.head()\n"
   ]
  },
  {
   "cell_type": "code",
   "execution_count": 15,
   "metadata": {},
   "outputs": [
    {
     "data": {
      "text/plain": [
       "(1911, 4)"
      ]
     },
     "execution_count": 15,
     "metadata": {},
     "output_type": "execute_result"
    }
   ],
   "source": [
    "data_agrupada.shape"
   ]
  },
  {
   "cell_type": "markdown",
   "metadata": {},
   "source": [
    "La base de datos actual contiene **1,911 observaciones** y **4 variables**. Este número de registros debería corresponder a **1,920 observaciones**, resultado de multiplicar los **12 meses** por los **5 años** y por el número de departamentos. Sin embargo, faltan datos para **9 meses específicos**, lo que explica la diferencia. Estas ausencias serán evidentes en las visualizaciones, donde se reflejarán las lagunas de información en los meses faltantes."
   ]
  },
  {
   "cell_type": "markdown",
   "metadata": {},
   "source": [
    "Ahora se modificará la columna **DEPARTAMENTO** agregando el nombre \"COLOMBIA\" a cada observación. Esto se realiza con el objetivo de garantizar que los mapas en **Power BI** puedan identificar correctamente las ubicaciones y ejecutar las visualizaciones sin problemas, asegurando así la precisión geográfica en el análisis de los hurtos a nivel nacional."
   ]
  },
  {
   "cell_type": "code",
   "execution_count": 16,
   "metadata": {},
   "outputs": [],
   "source": [
    "data_agrupada['DEPARTAMENTO'] = data_agrupada['DEPARTAMENTO'] + ' - COLOMBIA'"
   ]
  },
  {
   "cell_type": "markdown",
   "metadata": {},
   "source": [
    "Finalmente, la base de datos de **Hurtos en Colombia** está completamente preparada para su visualización, lo que permitirá analizar las tendencias de criminalidad a nivel nacional y proponer posibles soluciones basadas en los hallazgos obtenidos."
   ]
  },
  {
   "cell_type": "code",
   "execution_count": 17,
   "metadata": {},
   "outputs": [],
   "source": [
    "data_agrupada.to_csv(r'C:\\Users\\kamac\\OneDrive\\Desktop\\DelitosBarranquilla\\hurto_agrupado.csv', index=False)"
   ]
  }
 ],
 "metadata": {
  "kernelspec": {
   "display_name": "data_viz",
   "language": "python",
   "name": "python3"
  },
  "language_info": {
   "codemirror_mode": {
    "name": "ipython",
    "version": 3
   },
   "file_extension": ".py",
   "mimetype": "text/x-python",
   "name": "python",
   "nbconvert_exporter": "python",
   "pygments_lexer": "ipython3",
   "version": "3.9.19"
  }
 },
 "nbformat": 4,
 "nbformat_minor": 2
}
